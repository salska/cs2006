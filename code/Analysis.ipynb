{
 "cells": [
  {
   "cell_type": "markdown",
   "metadata": {},
   "source": [
    "<h1>Data analysis and visualisation</h1>\n",
    "<p>The analysis module processes the clean data from the refine stage, and prepares useful values for visualisation. The <i>pandas</i> module was used by most of analyses.<br/>\n",
    "The visualisation module contains functionality to create visual representations of the analysis script. Different modules were used to visualise the data, such as <i>matplotlib</i> and <i>wordcloud</i>.<br/>Thre draw_map module locates the users geographically and provides a world map to show the frequency of tweets from different parts of the world.<br/>\n",
    "The networking module is used to identify connections between the individual users stored within the data set.\n",
    "</p>"
   ]
  },
  {
   "cell_type": "code",
   "execution_count": 1,
   "metadata": {},
   "outputs": [],
   "source": [
    "import pandas as pd"
   ]
  },
  {
   "cell_type": "code",
   "execution_count": 2,
   "metadata": {},
   "outputs": [],
   "source": [
    "%matplotlib inline\n",
    "import matplotlib.pyplot as plt\n",
    "import mpld3"
   ]
  },
  {
   "cell_type": "code",
   "execution_count": 3,
   "metadata": {},
   "outputs": [],
   "source": [
    "import analysis as an"
   ]
  },
  {
   "cell_type": "code",
   "execution_count": 4,
   "metadata": {},
   "outputs": [],
   "source": [
    "import visualisation as vis"
   ]
  },
  {
   "cell_type": "code",
   "execution_count": 5,
   "metadata": {},
   "outputs": [
    {
     "ename": "ModuleNotFoundError",
     "evalue": "No module named 'cartopy'",
     "output_type": "error",
     "traceback": [
      "\u001B[0;31m---------------------------------------------------------------------------\u001B[0m",
      "\u001B[0;31mModuleNotFoundError\u001B[0m                       Traceback (most recent call last)",
      "Input \u001B[0;32mIn [5]\u001B[0m, in \u001B[0;36m<cell line: 1>\u001B[0;34m()\u001B[0m\n\u001B[0;32m----> 1\u001B[0m \u001B[38;5;28;01mimport\u001B[39;00m \u001B[38;5;21;01mdraw_map\u001B[39;00m \u001B[38;5;28;01mas\u001B[39;00m \u001B[38;5;21;01mdm\u001B[39;00m\n",
      "File \u001B[0;32m~/src/python/oran/cs2006/code/draw_map.py:3\u001B[0m, in \u001B[0;36m<module>\u001B[0;34m\u001B[0m\n\u001B[1;32m      1\u001B[0m \u001B[38;5;28;01mimport\u001B[39;00m \u001B[38;5;21;01mcsv\u001B[39;00m\n\u001B[1;32m      2\u001B[0m \u001B[38;5;28;01mimport\u001B[39;00m \u001B[38;5;21;01mos\u001B[39;00m\n\u001B[0;32m----> 3\u001B[0m \u001B[38;5;28;01mimport\u001B[39;00m \u001B[38;5;21;01mcartopy\u001B[39;00m\u001B[38;5;21;01m.\u001B[39;00m\u001B[38;5;21;01mcrs\u001B[39;00m \u001B[38;5;28;01mas\u001B[39;00m \u001B[38;5;21;01mccrs\u001B[39;00m\n\u001B[1;32m      4\u001B[0m \u001B[38;5;28;01mimport\u001B[39;00m \u001B[38;5;21;01mcartopy\u001B[39;00m\u001B[38;5;21;01m.\u001B[39;00m\u001B[38;5;21;01mio\u001B[39;00m\u001B[38;5;21;01m.\u001B[39;00m\u001B[38;5;21;01mshapereader\u001B[39;00m \u001B[38;5;28;01mas\u001B[39;00m \u001B[38;5;21;01mshpreader\u001B[39;00m\n\u001B[1;32m      5\u001B[0m \u001B[38;5;28;01mimport\u001B[39;00m \u001B[38;5;21;01mmatplotlib\u001B[39;00m\u001B[38;5;21;01m.\u001B[39;00m\u001B[38;5;21;01mpyplot\u001B[39;00m \u001B[38;5;28;01mas\u001B[39;00m \u001B[38;5;21;01mplt\u001B[39;00m\n",
      "\u001B[0;31mModuleNotFoundError\u001B[0m: No module named 'cartopy'"
     ]
    }
   ],
   "source": [
    "import draw_map as dm"
   ]
  },
  {
   "cell_type": "code",
   "execution_count": null,
   "metadata": {},
   "outputs": [],
   "source": [
    "import network as nt"
   ]
  },
  {
   "cell_type": "code",
   "execution_count": null,
   "metadata": {},
   "outputs": [],
   "source": [
    "#Reades in data cleaned by refine module\n",
    "df=pd.read_csv(\"../data/CometLanding_ref.csv.csv\")"
   ]
  },
  {
   "cell_type": "markdown",
   "metadata": {},
   "source": [
    "<p>The <i>printAnalysis()</i> function calls a collection of smaller functions that were created to calculate the number of original tweets, retweets and replies per user. This was done by counting how many of each there was, and dividing it by the total number of users. The program can also find the x most popular hashtags, where x ∈ N. This function uses the <i>counter</i> functionality contained in the collections module. It first finds all instances of a hashtag being used and updating the corresponding counter, and then orders the list containing the hashtags and returns the first x elements.\n",
    "</p>"
   ]
  },
  {
   "cell_type": "code",
   "execution_count": null,
   "metadata": {},
   "outputs": [],
   "source": [
    "an.printAnalysis(df)"
   ]
  },
  {
   "cell_type": "markdown",
   "metadata": {},
   "source": [
    "<p>To ensure a good visual represenation of the data at hand, a number of different types of graphs were used to accurately portray the meaning behind the analyses.<br/>\n",
    "A pie chart was used to represent the structure of tweet types (original tweets/replies/retweets, see below), as these all makes up parts of a whole, and are therefore easily represented in percentage. Retweets were the most common form of tweets by far (78.2% of total tweets), while original tweets (19.6%) and replies were very uncommon (2.2%).\n",
    "</p>"
   ]
  },
  {
   "cell_type": "code",
   "execution_count": null,
   "metadata": {},
   "outputs": [],
   "source": [
    "an.printAverages(df)"
   ]
  },
  {
   "cell_type": "code",
   "execution_count": null,
   "metadata": {},
   "outputs": [],
   "source": [
    "vis.plotStructure(df)"
   ]
  },
  {
   "cell_type": "markdown",
   "metadata": {},
   "source": [
    "<p>The most popular hashtags were visualised with the use of a word cloud. Only the top 100 were selected to prevent the word cloud from seeming too dense. The largest words on the cloud are the ones that were identified during the by the <i>printAnalysis()</i> function as the most popular ones, which provides support for its accuracy.\n",
    "</p>"
   ]
  },
  {
   "cell_type": "code",
   "execution_count": null,
   "metadata": {},
   "outputs": [],
   "source": [
    "vis.plotHashtagCloud(df)"
   ]
  },
  {
   "cell_type": "markdown",
   "metadata": {},
   "source": [
    "<p>The changes in user activity were measured over the length of time that the data set is from, and represented in a line chart. The y axis is logarithmic, as there were significantly more tweets in the first few days after the event than later on. The frequency of tweets slowly declines over time, as expected.\n",
    "</p>"
   ]
  },
  {
   "cell_type": "code",
   "execution_count": null,
   "metadata": {},
   "outputs": [],
   "source": [
    "times = an.getTweetsPerDay(df)\n",
    "vis.plotTweetsPerDay(times)"
   ]
  },
  {
   "cell_type": "markdown",
   "metadata": {},
   "source": [
    "<p>Changes in user activity were not only measured over the days, but also in reference to the time of day. The Twitter API provides a local and global time measure as well, therefore we created a version for both. The graph turned out to be identical, therefore it can be assumed that the one who retrieved the data was in the same time zone as the default settings. We decided to leave both versions in, as they may behave differently for larger data sets. A histogram is used in both cases in order to make comparison by eye easy.</p>"
   ]
  },
  {
   "cell_type": "code",
   "execution_count": null,
   "metadata": {},
   "outputs": [],
   "source": [
    "#Global time\n",
    "hoursOfTweets = an.getTweetsAtTimeOfDayGlobal(df)\n",
    "vis.plotTweetsPerHour(hoursOfTweets)"
   ]
  },
  {
   "cell_type": "code",
   "execution_count": null,
   "metadata": {},
   "outputs": [],
   "source": [
    "#Local time\n",
    "hoursOfTweetsLocal = an.getTweetsAtTimeOfDayLocal(df)\n",
    "vis.plotTweetsPerHour(hoursOfTweetsLocal)"
   ]
  },
  {
   "cell_type": "markdown",
   "metadata": {},
   "source": [
    "<p>The application times were parsed from the <i>source</i> column of the table with the use of regex. It was then visualised with a pie chart, with the 5 most popular appliances shown individually, and all others grouped together.\n",
    "</p>"
   ]
  },
  {
   "cell_type": "code",
   "execution_count": null,
   "metadata": {},
   "outputs": [],
   "source": [
    "dict = an.getAppsUsed(df)\n",
    "an.getPopularApps(5, dict)"
   ]
  },
  {
   "cell_type": "code",
   "execution_count": null,
   "metadata": {},
   "outputs": [],
   "source": [
    "vis.plotApps(df)"
   ]
  },
  {
   "cell_type": "markdown",
   "metadata": {},
   "source": [
    "<p>The countries from which the users were tweeting from were also collected. This data is displayed on a world map with the use of the <i>cartopy</i> python module. In the case of our data set, the US and UK were the most common sources of tweets, although Canada and certain European countires were tweeting actively as well.</p>"
   ]
  },
  {
   "cell_type": "code",
   "execution_count": null,
   "metadata": {},
   "outputs": [],
   "source": [
    "dm.main()"
   ]
  },
  {
   "cell_type": "markdown",
   "metadata": {},
   "source": [
    "<p>The networking module looks at the connections between all the users based on their replies and retweets and creates an interactive graph that lets us zoom in to various sections of the graph. The centre shows a vastly interconnected network where users interacted with each other a lot, and there are many other data nodes that did not interact with the other users in the set, likely due to posting original tweets. The data was so huge tha only nodes with degrees larger than 40 are shown.\n",
    "</p>"
   ]
  },
  {
   "cell_type": "code",
   "execution_count": null,
   "metadata": {},
   "outputs": [],
   "source": [
    "print(\"Number of unique users:\", an.getNumberOfUniqueUsers(df))\n"
   ]
  },
  {
   "cell_type": "code",
   "execution_count": null,
   "metadata": {},
   "outputs": [],
   "source": [
    "import networkx as nx\n",
    "G = nt.drawNetwork(df)\n",
    "nx.draw_networkx(G, with_labels = False, node_size = 10)\n",
    "mpld3.display()"
   ]
  },
  {
   "cell_type": "code",
   "execution_count": null,
   "metadata": {},
   "outputs": [],
   "source": []
  }
 ],
 "metadata": {
  "kernelspec": {
   "display_name": "Python 3 (ipykernel)",
   "language": "python",
   "name": "python3"
  },
  "language_info": {
   "codemirror_mode": {
    "name": "ipython",
    "version": 3
   },
   "file_extension": ".py",
   "mimetype": "text/x-python",
   "name": "python",
   "nbconvert_exporter": "python",
   "pygments_lexer": "ipython3",
   "version": "3.9.5"
  }
 },
 "nbformat": 4,
 "nbformat_minor": 2
}