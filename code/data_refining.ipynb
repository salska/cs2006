{
 "cells": [
  {
   "cell_type": "markdown",
   "metadata": {},
   "source": [
    "<h1>Data refining</h1>\n",
    "<p>This script contains functionality to refine data and produce a new data set. The module <i>pandas</i> contains many built-in functions for this task which was capitalised on.</p>"
   ]
  },
  {
   "cell_type": "code",
   "execution_count": 1,
   "metadata": {},
   "outputs": [],
   "source": [
    "import pandas as pd"
   ]
  },
  {
   "cell_type": "code",
   "execution_count": 2,
   "metadata": {},
   "outputs": [],
   "source": [
    "import refine as rf"
   ]
  },
  {
   "cell_type": "markdown",
   "metadata": {},
   "source": [
    "<p>Data, stored in a CSV file, was provided to help us get started. The data file is read in below.</p>"
   ]
  },
  {
   "cell_type": "code",
   "execution_count": 3,
   "metadata": {},
   "outputs": [],
   "source": [
    "df=pd.read_csv(\"../ACometLandingTwitterArchive.csv\")"
   ]
  },
  {
   "cell_type": "markdown",
   "metadata": {},
   "source": [
    "<p>Firstly, the function <i>drop_duplicates()</i> was used so that if any two rows are identical in the data set, they are recognised and the copy is removed. </p>"
   ]
  },
  {
   "cell_type": "code",
   "execution_count": 4,
   "metadata": {},
   "outputs": [
    {
     "name": "stdout",
     "output_type": "stream",
     "text": [
      "77318\n"
     ]
    }
   ],
   "source": [
    "#Number of Tweets: Length of original data set excluding header\n",
    "print(len(df)-1)"
   ]
  },
  {
   "cell_type": "code",
   "execution_count": 5,
   "metadata": {},
   "outputs": [],
   "source": [
    "df = df.drop_duplicates(keep = False)"
   ]
  },
  {
   "cell_type": "code",
   "execution_count": 6,
   "metadata": {},
   "outputs": [
    {
     "name": "stdout",
     "output_type": "stream",
     "text": [
      "77298\n"
     ]
    }
   ],
   "source": [
    "#Number of Tweets: Length of original data set excluding header after removing duplicates\n",
    "print(len(df)-1)"
   ]
  },
  {
   "cell_type": "markdown",
   "metadata": {},
   "source": [
    "<p>Secondly, the user's language settings (<i>user_lang</i>) are looped over. All the values in this column were changed to lowercase, so that “en-gb” and “en-GB” are recognised as the same.<br/> If the language is null but the rest of the row contains reasonable values, there is no point in discarding the data, and therefore <i>user_lang</i> will be set to “en” by default. If the rest of the data is damaged, later functions will remove it.</p>"
   ]
  },
  {
   "cell_type": "code",
   "execution_count": 16,
   "outputs": [
    {
     "data": {
      "text/plain": "49924"
     },
     "execution_count": 16,
     "metadata": {},
     "output_type": "execute_result"
    }
   ],
   "source": [
    "#Number of unique users\n",
    "len(df['from_user'].unique())"
   ],
   "metadata": {
    "collapsed": false,
    "pycharm": {
     "name": "#%%\n"
    }
   }
  },
  {
   "cell_type": "code",
   "execution_count": 35,
   "outputs": [
    {
     "name": "stdout",
     "output_type": "stream",
     "text": [
      "from_user_id_str  from_user      \n",
      "2851551783        weruqc89bc72       116\n",
      "356021744         gurumescudi         97\n",
      "32427002          spaceflashnews      88\n",
      "1401527256        misola23a           81\n",
      "1591816866        canuhandlme         73\n",
      "                                    ... \n",
      "2856653680        installiphone_      23\n",
      "2858503108        computermemory_     23\n",
      "14846573          Sondas              22\n",
      "69860028          masanorimusic       22\n",
      "449749984         Koln                22\n",
      "Name: from_user, Length: 100, dtype: int64\n"
     ]
    }
   ],
   "source": [
    "#Number of unique users\n",
    "s = df['from_user'].groupby(df['from_user_id_str'].astype(int)).value_counts().nlargest(100)\n",
    "print (s)"
   ],
   "metadata": {
    "collapsed": false,
    "pycharm": {
     "name": "#%%\n"
    }
   }
  },
  {
   "cell_type": "code",
   "execution_count": 7,
   "metadata": {},
   "outputs": [
    {
     "data": {
      "text/plain": "array(['en', 'fr', 'de', 'th', 'es', 'it', 'en-gb', 'ca', 'ru', 'ar',\n       'pt', 'nl', 'tr', 'ja', 'no', 'pl', 'ko', 'da', 'ro', 'uk', 'fi',\n       'sv', 'hu', 'cs', 'id', 'zh-cn', 'fil', 'xx-lc', 'zh-Hans', 'el',\n       'es-MX', 'zh-CN', 'en-AU', 'eu', 'en-GB', 'pt-PT', 'gl', 'he',\n       'bg', nan, 'zh-tw', 'nb', 'fa', 'vi', 'msa', 'ur', 'hi'],\n      dtype=object)"
     },
     "execution_count": 7,
     "metadata": {},
     "output_type": "execute_result"
    }
   ],
   "source": [
    "#Unique column values before, note the presesnce of 'nan' and\n",
    "#unregulated mix of lower and upper case\n",
    "df[\"user_lang\"].unique()"
   ]
  },
  {
   "cell_type": "code",
   "execution_count": 8,
   "metadata": {},
   "outputs": [],
   "source": [
    "df = rf.langCheck(df)"
   ]
  },
  {
   "cell_type": "code",
   "execution_count": 9,
   "metadata": {},
   "outputs": [
    {
     "data": {
      "text/plain": "array(['en', 'fr', 'de', 'th', 'es', 'it', 'en-gb', 'ca', 'ru', 'ar',\n       'pt', 'nl', 'tr', 'ja', 'no', 'pl', 'ko', 'da', 'ro', 'uk', 'fi',\n       'sv', 'hu', 'cs', 'id', 'zh-cn', 'fil', 'xx-lc', 'zh-hans', 'el',\n       'es-mx', 'en-au', 'eu', 'pt-pt', 'gl', 'he', 'bg', 'zh-tw', 'nb',\n       'fa', 'vi', 'msa', 'ur', 'hi'], dtype=object)"
     },
     "execution_count": 9,
     "metadata": {},
     "output_type": "execute_result"
    }
   ],
   "source": [
    "##Unique column values after langCheck\n",
    "df[\"user_lang\"].unique()"
   ]
  },
  {
   "cell_type": "markdown",
   "metadata": {},
   "source": [
    "<p>Next, the <i>removeNAN()</i> function checks and removes rows of missing data. It uses the functions <i>isnull()</i> and <i>dropna()</i> to remove NaN values (NaN is used by <i>pandas</i> to represent nulls). For the cases when null represents over 50% of a columns data (such as the reply column), these values are considered valid and not removed.</p>"
   ]
  },
  {
   "cell_type": "code",
   "execution_count": 10,
   "metadata": {},
   "outputs": [
    {
     "name": "stdout",
     "output_type": "stream",
     "text": [
      "77299\n"
     ]
    }
   ],
   "source": [
    "#Length of data set before removing null values\n",
    "print(len(df))"
   ]
  },
  {
   "cell_type": "code",
   "execution_count": 11,
   "metadata": {},
   "outputs": [],
   "source": [
    "df = rf.removeNAN(df)"
   ]
  },
  {
   "cell_type": "code",
   "execution_count": 12,
   "metadata": {},
   "outputs": [
    {
     "name": "stdout",
     "output_type": "stream",
     "text": [
      "77083\n"
     ]
    }
   ],
   "source": [
    "#Length of data set after removing null values\n",
    "print(len(df))"
   ]
  },
  {
   "cell_type": "markdown",
   "metadata": {},
   "source": [
    "<p>Additional functions were written to check for other anomalies in the data. Usernames are checked for both length and for special characters (only letters, numerals and “_” are allowed).<br/> The text column is also checked for length, as it cannot be over 140 characters. There are no cases of such corruption in the provided data set, but it may prove useful when validating other, less clean data. </p>"
   ]
  },
  {
   "cell_type": "code",
   "execution_count": 13,
   "metadata": {},
   "outputs": [],
   "source": [
    "# df = rf.fromUserCheck(df)\n",
    "df = rf.textCheck(df)"
   ]
  },
  {
   "cell_type": "markdown",
   "metadata": {},
   "source": [
    "<p>We did not add format checking for all of the columns as that would have been tedious work, and from our observation, when the data was damaged, it usually meant that its values were null rather than malformed. <br/>\n",
    "Once the data set has been adequately refined, it is moved to a new file.\n",
    "</p>"
   ]
  },
  {
   "cell_type": "code",
   "execution_count": 14,
   "metadata": {},
   "outputs": [],
   "source": [
    "rf.makeCSV(df)"
   ]
  },
  {
   "cell_type": "code",
   "execution_count": 15,
   "metadata": {},
   "outputs": [
    {
     "data": {
      "text/plain": "             id_str        from_user  \\\n0      5.409300e+17  amika0078788556   \n1      5.409300e+17   ChrisDMarshall   \n2      5.409300e+17         MHuuskoL   \n3      5.409290e+17  SaraGomezAranci   \n4      5.409290e+17          CBCDay6   \n...             ...              ...   \n77314  5.324600e+17     ABForScience   \n77315  5.324600e+17           atieyK   \n77316  5.324600e+17           j0nny5   \n77317  5.324600e+17          nsentse   \n77318  5.324600e+17          grery92   \n\n                                                    text  \\\n0      RT @VersaTechnology: Congratulations @Philae20...   \n1      CometWatch 2 December Â» Rosetta - ESA's comet...   \n2      RT @EUCouncil: After the #CometLanding - Astro...   \n3      RT @EUCouncil: After the #CometLanding - Astro...   \n4      RT @shaunmajumder: Feels good to be the @CBCDa...   \n...                                                  ...   \n77314  This means  that the actual landing will be ar...   \n77315  RT @ObservingSpace: Weâ€™ve been waiting 10 ye...   \n77316  RT @maxplanckpress: Accomazzo (flight director...   \n77317                   7 hours of waiting #CometLanding   \n77318  RT @dsdanyds: TopTrendIT: TT ITALIA 09:59\\n1.#...   \n\n                           created_at              time geo_coordinates  \\\n0      Fri Dec 05 18:07:14 +0000 2014  05/12/2014 18:07             NaN   \n1      Fri Dec 05 18:05:46 +0000 2014  05/12/2014 18:05             NaN   \n2      Fri Dec 05 18:05:36 +0000 2014  05/12/2014 18:05             NaN   \n3      Fri Dec 05 18:03:00 +0000 2014  05/12/2014 18:03             NaN   \n4      Fri Dec 05 18:02:32 +0000 2014  05/12/2014 18:02             NaN   \n...                               ...               ...             ...   \n77314  Wed Nov 12 09:09:26 +0000 2014  12/11/2014 09:09             NaN   \n77315  Wed Nov 12 09:09:26 +0000 2014  12/11/2014 09:09             NaN   \n77316  Wed Nov 12 09:09:26 +0000 2014  12/11/2014 09:09             NaN   \n77317  Wed Nov 12 09:09:26 +0000 2014  12/11/2014 09:09             NaN   \n77318  Wed Nov 12 09:09:26 +0000 2014  12/11/2014 09:09             NaN   \n\n      user_lang  in_reply_to_user_id_str in_reply_to_screen_name  \\\n0            en                      NaN                     NaN   \n1            en                      NaN                     NaN   \n2            en                      NaN                     NaN   \n3            fr                      NaN                     NaN   \n4            en                      NaN                     NaN   \n...         ...                      ...                     ...   \n77314        en                      NaN                     NaN   \n77315        en                      NaN                     NaN   \n77316        en                      NaN                     NaN   \n77317        en                      NaN                     NaN   \n77318        it                      NaN                     NaN   \n\n       from_user_id_str  in_reply_to_status_id_str  \\\n0          1.297570e+09                        NaN   \n1          4.220121e+07                        NaN   \n2          5.744348e+08                        NaN   \n3          1.057356e+09                        NaN   \n4          1.772769e+08                        NaN   \n...                 ...                        ...   \n77314      2.333123e+09                        NaN   \n77315      5.830372e+07                        NaN   \n77316      1.791486e+07                        NaN   \n77317      2.043400e+07                        NaN   \n77318      4.878276e+08                        NaN   \n\n                                                  source  \\\n0      <a href=\"http://twitter.com\" rel=\"nofollow\">Tw...   \n1      <a href=\"https://dev.twitter.com/docs/tfw\" rel...   \n2      <a href=\"http://twitter.com/#!/download/ipad\" ...   \n3      <a href=\"http://twitter.com/download/iphone\" r...   \n4      <a href=\"http://twitter.com/download/android\" ...   \n...                                                  ...   \n77314  <a href=\"http://www.tweetcaster.com\" rel=\"nofo...   \n77315  <a href=\"https://twitter.com/download/android\"...   \n77316  <a href=\"http://twitter.com\" rel=\"nofollow\">Tw...   \n77317  <a href=\"http://twitter.com/download/iphone\" r...   \n77318  <a href=\"http://twitter.com/download/android\" ...   \n\n                                       profile_image_url  \\\n0      http://pbs.twimg.com/profile_images/3555068293...   \n1      http://pbs.twimg.com/profile_images/228087980/...   \n2      http://pbs.twimg.com/profile_images/4973510588...   \n3      http://pbs.twimg.com/profile_images/5391705804...   \n4      http://pbs.twimg.com/profile_images/4590694303...   \n...                                                  ...   \n77314  http://pbs.twimg.com/profile_images/4320695593...   \n77315  http://pbs.twimg.com/profile_images/5057311637...   \n77316  http://pbs.twimg.com/profile_images/89991673/j...   \n77317  http://pbs.twimg.com/profile_images/3693655850...   \n77318  http://pbs.twimg.com/profile_images/3788000004...   \n\n       user_followers_count  user_friends_count  \\\n0                     425.0               113.0   \n1                     347.0              1286.0   \n2                     215.0               310.0   \n3                     741.0               310.0   \n4                    4331.0              2098.0   \n...                     ...                 ...   \n77314                 155.0               212.0   \n77315                 354.0              1088.0   \n77316                  92.0                63.0   \n77317                 200.0               267.0   \n77318                 194.0               403.0   \n\n                                              status_url  \\\n0      http://twitter.com/amika0078788556/statuses/54...   \n1      http://twitter.com/ChrisDMarshall/statuses/540...   \n2      http://twitter.com/MHuuskoL/statuses/540929998...   \n3      http://twitter.com/SaraGomezAranci/statuses/54...   \n4      http://twitter.com/CBCDay6/statuses/5409292290...   \n...                                                  ...   \n77314  http://twitter.com/ABForScience/statuses/53246...   \n77315  http://twitter.com/atieyK/statuses/53246014845...   \n77316  http://twitter.com/j0nny5/statuses/53246014825...   \n77317  http://twitter.com/nsentse/statuses/5324601482...   \n77318  http://twitter.com/grery92/statuses/5324601477...   \n\n                                            entities_str  \n0      {\"hashtags\":[{\"text\":\"Philae\",\"indices\":[49,56...  \n1      {\"hashtags\":[{\"text\":\"CometLanding\",\"indices\":...  \n2      {\"hashtags\":[{\"text\":\"CometLanding\",\"indices\":...  \n3      {\"hashtags\":[{\"text\":\"CometLanding\",\"indices\":...  \n4      {\"hashtags\":[{\"text\":\"MiniMansbridge\",\"indices...  \n...                                                  ...  \n77314  {\"hashtags\":[{\"text\":\"CometLanding\",\"indices\":...  \n77315  {\"hashtags\":[{\"text\":\"cometlanding\",\"indices\":...  \n77316  {\"hashtags\":[{\"text\":\"CometLanding\",\"indices\":...  \n77317  {\"hashtags\":[{\"text\":\"CometLanding\",\"indices\":...  \n77318  {\"hashtags\":[{\"text\":\"GUERRIERO\",\"indices\":[44...  \n\n[76686 rows x 17 columns]",
      "text/html": "<div>\n<style scoped>\n    .dataframe tbody tr th:only-of-type {\n        vertical-align: middle;\n    }\n\n    .dataframe tbody tr th {\n        vertical-align: top;\n    }\n\n    .dataframe thead th {\n        text-align: right;\n    }\n</style>\n<table border=\"1\" class=\"dataframe\">\n  <thead>\n    <tr style=\"text-align: right;\">\n      <th></th>\n      <th>id_str</th>\n      <th>from_user</th>\n      <th>text</th>\n      <th>created_at</th>\n      <th>time</th>\n      <th>geo_coordinates</th>\n      <th>user_lang</th>\n      <th>in_reply_to_user_id_str</th>\n      <th>in_reply_to_screen_name</th>\n      <th>from_user_id_str</th>\n      <th>in_reply_to_status_id_str</th>\n      <th>source</th>\n      <th>profile_image_url</th>\n      <th>user_followers_count</th>\n      <th>user_friends_count</th>\n      <th>status_url</th>\n      <th>entities_str</th>\n    </tr>\n  </thead>\n  <tbody>\n    <tr>\n      <th>0</th>\n      <td>5.409300e+17</td>\n      <td>amika0078788556</td>\n      <td>RT @VersaTechnology: Congratulations @Philae20...</td>\n      <td>Fri Dec 05 18:07:14 +0000 2014</td>\n      <td>05/12/2014 18:07</td>\n      <td>NaN</td>\n      <td>en</td>\n      <td>NaN</td>\n      <td>NaN</td>\n      <td>1.297570e+09</td>\n      <td>NaN</td>\n      <td>&lt;a href=\"http://twitter.com\" rel=\"nofollow\"&gt;Tw...</td>\n      <td>http://pbs.twimg.com/profile_images/3555068293...</td>\n      <td>425.0</td>\n      <td>113.0</td>\n      <td>http://twitter.com/amika0078788556/statuses/54...</td>\n      <td>{\"hashtags\":[{\"text\":\"Philae\",\"indices\":[49,56...</td>\n    </tr>\n    <tr>\n      <th>1</th>\n      <td>5.409300e+17</td>\n      <td>ChrisDMarshall</td>\n      <td>CometWatch 2 December Â» Rosetta - ESA's comet...</td>\n      <td>Fri Dec 05 18:05:46 +0000 2014</td>\n      <td>05/12/2014 18:05</td>\n      <td>NaN</td>\n      <td>en</td>\n      <td>NaN</td>\n      <td>NaN</td>\n      <td>4.220121e+07</td>\n      <td>NaN</td>\n      <td>&lt;a href=\"https://dev.twitter.com/docs/tfw\" rel...</td>\n      <td>http://pbs.twimg.com/profile_images/228087980/...</td>\n      <td>347.0</td>\n      <td>1286.0</td>\n      <td>http://twitter.com/ChrisDMarshall/statuses/540...</td>\n      <td>{\"hashtags\":[{\"text\":\"CometLanding\",\"indices\":...</td>\n    </tr>\n    <tr>\n      <th>2</th>\n      <td>5.409300e+17</td>\n      <td>MHuuskoL</td>\n      <td>RT @EUCouncil: After the #CometLanding - Astro...</td>\n      <td>Fri Dec 05 18:05:36 +0000 2014</td>\n      <td>05/12/2014 18:05</td>\n      <td>NaN</td>\n      <td>en</td>\n      <td>NaN</td>\n      <td>NaN</td>\n      <td>5.744348e+08</td>\n      <td>NaN</td>\n      <td>&lt;a href=\"http://twitter.com/#!/download/ipad\" ...</td>\n      <td>http://pbs.twimg.com/profile_images/4973510588...</td>\n      <td>215.0</td>\n      <td>310.0</td>\n      <td>http://twitter.com/MHuuskoL/statuses/540929998...</td>\n      <td>{\"hashtags\":[{\"text\":\"CometLanding\",\"indices\":...</td>\n    </tr>\n    <tr>\n      <th>3</th>\n      <td>5.409290e+17</td>\n      <td>SaraGomezAranci</td>\n      <td>RT @EUCouncil: After the #CometLanding - Astro...</td>\n      <td>Fri Dec 05 18:03:00 +0000 2014</td>\n      <td>05/12/2014 18:03</td>\n      <td>NaN</td>\n      <td>fr</td>\n      <td>NaN</td>\n      <td>NaN</td>\n      <td>1.057356e+09</td>\n      <td>NaN</td>\n      <td>&lt;a href=\"http://twitter.com/download/iphone\" r...</td>\n      <td>http://pbs.twimg.com/profile_images/5391705804...</td>\n      <td>741.0</td>\n      <td>310.0</td>\n      <td>http://twitter.com/SaraGomezAranci/statuses/54...</td>\n      <td>{\"hashtags\":[{\"text\":\"CometLanding\",\"indices\":...</td>\n    </tr>\n    <tr>\n      <th>4</th>\n      <td>5.409290e+17</td>\n      <td>CBCDay6</td>\n      <td>RT @shaunmajumder: Feels good to be the @CBCDa...</td>\n      <td>Fri Dec 05 18:02:32 +0000 2014</td>\n      <td>05/12/2014 18:02</td>\n      <td>NaN</td>\n      <td>en</td>\n      <td>NaN</td>\n      <td>NaN</td>\n      <td>1.772769e+08</td>\n      <td>NaN</td>\n      <td>&lt;a href=\"http://twitter.com/download/android\" ...</td>\n      <td>http://pbs.twimg.com/profile_images/4590694303...</td>\n      <td>4331.0</td>\n      <td>2098.0</td>\n      <td>http://twitter.com/CBCDay6/statuses/5409292290...</td>\n      <td>{\"hashtags\":[{\"text\":\"MiniMansbridge\",\"indices...</td>\n    </tr>\n    <tr>\n      <th>...</th>\n      <td>...</td>\n      <td>...</td>\n      <td>...</td>\n      <td>...</td>\n      <td>...</td>\n      <td>...</td>\n      <td>...</td>\n      <td>...</td>\n      <td>...</td>\n      <td>...</td>\n      <td>...</td>\n      <td>...</td>\n      <td>...</td>\n      <td>...</td>\n      <td>...</td>\n      <td>...</td>\n      <td>...</td>\n    </tr>\n    <tr>\n      <th>77314</th>\n      <td>5.324600e+17</td>\n      <td>ABForScience</td>\n      <td>This means  that the actual landing will be ar...</td>\n      <td>Wed Nov 12 09:09:26 +0000 2014</td>\n      <td>12/11/2014 09:09</td>\n      <td>NaN</td>\n      <td>en</td>\n      <td>NaN</td>\n      <td>NaN</td>\n      <td>2.333123e+09</td>\n      <td>NaN</td>\n      <td>&lt;a href=\"http://www.tweetcaster.com\" rel=\"nofo...</td>\n      <td>http://pbs.twimg.com/profile_images/4320695593...</td>\n      <td>155.0</td>\n      <td>212.0</td>\n      <td>http://twitter.com/ABForScience/statuses/53246...</td>\n      <td>{\"hashtags\":[{\"text\":\"CometLanding\",\"indices\":...</td>\n    </tr>\n    <tr>\n      <th>77315</th>\n      <td>5.324600e+17</td>\n      <td>atieyK</td>\n      <td>RT @ObservingSpace: Weâ€™ve been waiting 10 ye...</td>\n      <td>Wed Nov 12 09:09:26 +0000 2014</td>\n      <td>12/11/2014 09:09</td>\n      <td>NaN</td>\n      <td>en</td>\n      <td>NaN</td>\n      <td>NaN</td>\n      <td>5.830372e+07</td>\n      <td>NaN</td>\n      <td>&lt;a href=\"https://twitter.com/download/android\"...</td>\n      <td>http://pbs.twimg.com/profile_images/5057311637...</td>\n      <td>354.0</td>\n      <td>1088.0</td>\n      <td>http://twitter.com/atieyK/statuses/53246014845...</td>\n      <td>{\"hashtags\":[{\"text\":\"cometlanding\",\"indices\":...</td>\n    </tr>\n    <tr>\n      <th>77316</th>\n      <td>5.324600e+17</td>\n      <td>j0nny5</td>\n      <td>RT @maxplanckpress: Accomazzo (flight director...</td>\n      <td>Wed Nov 12 09:09:26 +0000 2014</td>\n      <td>12/11/2014 09:09</td>\n      <td>NaN</td>\n      <td>en</td>\n      <td>NaN</td>\n      <td>NaN</td>\n      <td>1.791486e+07</td>\n      <td>NaN</td>\n      <td>&lt;a href=\"http://twitter.com\" rel=\"nofollow\"&gt;Tw...</td>\n      <td>http://pbs.twimg.com/profile_images/89991673/j...</td>\n      <td>92.0</td>\n      <td>63.0</td>\n      <td>http://twitter.com/j0nny5/statuses/53246014825...</td>\n      <td>{\"hashtags\":[{\"text\":\"CometLanding\",\"indices\":...</td>\n    </tr>\n    <tr>\n      <th>77317</th>\n      <td>5.324600e+17</td>\n      <td>nsentse</td>\n      <td>7 hours of waiting #CometLanding</td>\n      <td>Wed Nov 12 09:09:26 +0000 2014</td>\n      <td>12/11/2014 09:09</td>\n      <td>NaN</td>\n      <td>en</td>\n      <td>NaN</td>\n      <td>NaN</td>\n      <td>2.043400e+07</td>\n      <td>NaN</td>\n      <td>&lt;a href=\"http://twitter.com/download/iphone\" r...</td>\n      <td>http://pbs.twimg.com/profile_images/3693655850...</td>\n      <td>200.0</td>\n      <td>267.0</td>\n      <td>http://twitter.com/nsentse/statuses/5324601482...</td>\n      <td>{\"hashtags\":[{\"text\":\"CometLanding\",\"indices\":...</td>\n    </tr>\n    <tr>\n      <th>77318</th>\n      <td>5.324600e+17</td>\n      <td>grery92</td>\n      <td>RT @dsdanyds: TopTrendIT: TT ITALIA 09:59\\n1.#...</td>\n      <td>Wed Nov 12 09:09:26 +0000 2014</td>\n      <td>12/11/2014 09:09</td>\n      <td>NaN</td>\n      <td>it</td>\n      <td>NaN</td>\n      <td>NaN</td>\n      <td>4.878276e+08</td>\n      <td>NaN</td>\n      <td>&lt;a href=\"http://twitter.com/download/android\" ...</td>\n      <td>http://pbs.twimg.com/profile_images/3788000004...</td>\n      <td>194.0</td>\n      <td>403.0</td>\n      <td>http://twitter.com/grery92/statuses/5324601477...</td>\n      <td>{\"hashtags\":[{\"text\":\"GUERRIERO\",\"indices\":[44...</td>\n    </tr>\n  </tbody>\n</table>\n<p>76686 rows × 17 columns</p>\n</div>"
     },
     "execution_count": 15,
     "metadata": {},
     "output_type": "execute_result"
    }
   ],
   "source": [
    "df"
   ]
  },
  {
   "cell_type": "code",
   "execution_count": 15,
   "metadata": {},
   "outputs": [],
   "source": []
  }
 ],
 "metadata": {
  "kernelspec": {
   "display_name": "Python 3 (ipykernel)",
   "language": "python",
   "name": "python3"
  },
  "language_info": {
   "codemirror_mode": {
    "name": "ipython",
    "version": 3
   },
   "file_extension": ".py",
   "mimetype": "text/x-python",
   "name": "python",
   "nbconvert_exporter": "python",
   "pygments_lexer": "ipython3",
   "version": "3.9.5"
  }
 },
 "nbformat": 4,
 "nbformat_minor": 1
}